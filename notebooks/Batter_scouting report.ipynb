{
 "cells": [
  {
   "cell_type": "code",
   "execution_count": 1,
   "metadata": {},
   "outputs": [],
   "source": [
    "import pandas as pd\n",
    "import numpy as np\n",
    "import random\n",
    "pd.set_option('display.max_columns', 500)\n",
    "pd.set_option('display.max_rows', 500)"
   ]
  },
  {
   "cell_type": "code",
   "execution_count": 2,
   "metadata": {},
   "outputs": [],
   "source": [
    "fname = 'pitches_2017.pkl'\n",
    "df_17 = pd.read_pickle(fname, compression='zip')\n",
    "\n",
    "#convert the pitch type for UN (unknown) to np.nan\n",
    "df_17['pitch_type'] = df_17['pitch_type'].replace({'UN':np.nan})"
   ]
  },
  {
   "cell_type": "code",
   "execution_count": 3,
   "metadata": {},
   "outputs": [],
   "source": [
    "def strikezone_wrangle(df):\n",
    "    df = df.copy()\n",
    "    \n",
    "    #create swung column\n",
    "    def swung(x):\n",
    "        swung = ['foul','hit_into_play','swinging_strike','hit_into_play_no_out',\n",
    "                 'hit_into_play_score','foul_tip','swinging_strike_blocked',\n",
    "                 'foul_bunt','missed_bunt']\n",
    "        return 1 if x in swung else 0\n",
    "    df['batter_swung'] = df['description'].apply(swung)\n",
    "    \n",
    "    #initialize in_strikezone and chased features:\n",
    "    df['in_strikezone'] = 1\n",
    "    df['chased'] = 0\n",
    "    \n",
    "    #iterate thru each row\n",
    "    for index, row in df.iterrows():\n",
    "        #if ball is outside the strikezone, change the value for that row to 0\n",
    "        if row.plate_z > row.sz_top or row.plate_z < row.sz_bot or row.plate_x < -0.73 or row.plate_x > 0.73:\n",
    "            df.at[index, 'in_strikezone'] = 0\n",
    "        #if batter_swung at ball outside the strike zone, change chased value to 1:\n",
    "        if df.at[index, 'batter_swung'] == 1 and df.at[index, 'in_strikezone'] == 0:\n",
    "            df.at[index, 'chased'] = 1\n",
    "    return df"
   ]
  },
  {
   "cell_type": "code",
   "execution_count": 4,
   "metadata": {},
   "outputs": [
    {
     "name": "stdout",
     "output_type": "stream",
     "text": [
      "CPU times: user 4min 30s, sys: 7.57 s, total: 4min 38s\n",
      "Wall time: 4min 53s\n"
     ]
    }
   ],
   "source": [
    "%%time\n",
    "df_17 = strikezone_wrangle(df_17)"
   ]
  },
  {
   "cell_type": "code",
   "execution_count": 5,
   "metadata": {},
   "outputs": [],
   "source": [
    "def gen_pitcher_percentages(df):\n",
    "    df = df.copy()\n",
    "    #get all the unique pitcher names in the df\n",
    "    pitcher_list = df.player_name.unique().tolist()\n",
    "    #initialize empty dictionary to store each pitcher and their pitches and percentages for each pitch\n",
    "    pitcher_dict = {}\n",
    "    #iterate over each pitcher:\n",
    "    for pitcher in pitcher_list:\n",
    "        #assign the normalized value_counts to a variable\n",
    "        pitch_percentages = df[df.player_name == pitcher].pitch_type.value_counts(normalize=True)\n",
    "        #convert that Series object to a dict and assign it as the value to the pitcher dictionary \n",
    "        #(pitcher name as key)\n",
    "        pitcher_dict[pitcher] = pitch_percentages.to_dict()\n",
    "    return pitcher_dict\n",
    "\n",
    "def fill_pitch_type_nans(df):\n",
    "    df = df.copy()\n",
    "    #grab the rows where pitch_type is null:\n",
    "    nulls = df[df.pitch_type.isna()]\n",
    "    \n",
    "    #generate the dictionary of pitch type % by pitcher\n",
    "    pitcher_dict = gen_pitcher_percentages(df)\n",
    "    \n",
    "    #iterate over each null row\n",
    "    for index, row in nulls.iterrows():\n",
    "        #use the % for that pitcher for each pitch type he throws to generate a random pitch type with \n",
    "        #that % as weight\n",
    "        pitch = random.choices(population=list(pitcher_dict[row.player_name].keys()), \n",
    "                               weights=list(pitcher_dict[row.player_name].values()), \n",
    "                               k=1)[0]\n",
    "        #fill the NaN value with the randomly generated pitch\n",
    "        df.at[index, 'pitch_type'] = pitch\n",
    "    return df"
   ]
  },
  {
   "cell_type": "code",
   "execution_count": 6,
   "metadata": {},
   "outputs": [
    {
     "data": {
      "text/plain": [
       "2215"
      ]
     },
     "execution_count": 6,
     "metadata": {},
     "output_type": "execute_result"
    }
   ],
   "source": [
    "df_17.pitch_type.isna().sum()"
   ]
  },
  {
   "cell_type": "code",
   "execution_count": 7,
   "metadata": {},
   "outputs": [
    {
     "name": "stdout",
     "output_type": "stream",
     "text": [
      "CPU times: user 1min 17s, sys: 868 ms, total: 1min 18s\n",
      "Wall time: 1min 18s\n"
     ]
    }
   ],
   "source": [
    "%%time\n",
    "df_17 = fill_pitch_type_nans(df_17)"
   ]
  },
  {
   "cell_type": "code",
   "execution_count": 8,
   "metadata": {},
   "outputs": [
    {
     "data": {
      "text/plain": [
       "0"
      ]
     },
     "execution_count": 8,
     "metadata": {},
     "output_type": "execute_result"
    }
   ],
   "source": [
    "df_17.pitch_type.isna().sum()"
   ]
  },
  {
   "cell_type": "code",
   "execution_count": 9,
   "metadata": {},
   "outputs": [
    {
     "data": {
      "text/plain": [
       "FF    254009\n",
       "SL    117639\n",
       "FT     94618\n",
       "CH     71751\n",
       "CU     56735\n",
       "SI     52410\n",
       "FC     37632\n",
       "KC     21385\n",
       "FS     11780\n",
       "KN      2694\n",
       "FO       248\n",
       "EP       187\n",
       "PO       116\n",
       "SC        39\n",
       "Name: pitch_type, dtype: int64"
      ]
     },
     "execution_count": 9,
     "metadata": {},
     "output_type": "execute_result"
    }
   ],
   "source": [
    "df_17.pitch_type.value_counts()"
   ]
  },
  {
   "cell_type": "markdown",
   "metadata": {},
   "source": [
    "## Categorize pitch type into fastball, breaking, or offspeed, (or pitchout)"
   ]
  },
  {
   "cell_type": "markdown",
   "metadata": {},
   "source": [
    "#### Fastballs\n",
    "FA = fastball, FF = four-seam fastball, FT = two-seam fastball, FC = fastball (cutter), \n",
    "\n",
    "FS / SI / SF = fastball (sinker, split-fingered)\n",
    "\n",
    "#### Breaking\n",
    "SL = slider, CB / CU = curveball, KC = knuckle-curve, SC = screwball\n",
    "\n",
    "#### Offspeed\n",
    "CH = changeup, KN = knuckleball, EP = eephus\n",
    "\n",
    "#### Pitchout\n",
    "PO / FO = pitch out\n",
    "\n"
   ]
  },
  {
   "cell_type": "code",
   "execution_count": 10,
   "metadata": {},
   "outputs": [],
   "source": [
    "#create map for pitch type into categories:\n",
    "pitch_type_map = {'FA':'fastball', 'FF':'fastball', 'FT':'fastball', 'FC':'fastball',\n",
    "                  'FS':'fastball', 'SI':'fastball', 'SF':'fastball', 'SL':'breaking',\n",
    "                  'CB':'breaking', 'CU':'breaking', 'SC':'breaking', 'KC':'breaking',\n",
    "                  'CH':'offspeed', 'KN':'offspeed', 'EP':'offspeed', 'FO':'pitchout', \n",
    "                  'PO':'pitchout'}\n",
    "\n",
    "#create pitch cateogory feature\n",
    "df_17['pitch_cat'] = df_17['pitch_type']\n",
    "df_17['pitch_cat'] = df_17['pitch_cat'].replace(pitch_type_map)"
   ]
  },
  {
   "cell_type": "code",
   "execution_count": 11,
   "metadata": {},
   "outputs": [
    {
     "data": {
      "text/plain": [
       "fastball    450449\n",
       "breaking    195798\n",
       "offspeed     74632\n",
       "pitchout       364\n",
       "Name: pitch_cat, dtype: int64"
      ]
     },
     "execution_count": 11,
     "metadata": {},
     "output_type": "execute_result"
    }
   ],
   "source": [
    "df_17['pitch_cat'].value_counts(dropna=False)"
   ]
  },
  {
   "cell_type": "markdown",
   "metadata": {},
   "source": [
    "# Batter Scouting Report\n",
    "## Batter features vs diff pitch type categories:"
   ]
  },
  {
   "cell_type": "code",
   "execution_count": 12,
   "metadata": {},
   "outputs": [
    {
     "name": "stderr",
     "output_type": "stream",
     "text": [
      "/home/jm/.local/lib/python3.6/site-packages/ipykernel_launcher.py:70: RuntimeWarning: invalid value encountered in long_scalars\n",
      "/home/jm/.local/lib/python3.6/site-packages/ipykernel_launcher.py:76: RuntimeWarning: invalid value encountered in long_scalars\n"
     ]
    },
    {
     "name": "stdout",
     "output_type": "stream",
     "text": [
      "iteration completed successfully\n",
      "CPU times: user 1min 22s, sys: 893 ms, total: 1min 23s\n",
      "Wall time: 1min 24s\n"
     ]
    }
   ],
   "source": [
    "%%time\n",
    "def make_batters_dict(df):\n",
    "    df = df.copy()\n",
    "    #make list of the unique batter ids\n",
    "    batters = list(df['batter'].unique())\n",
    "    #initialize empty dictionary to store the batter stats\n",
    "    batters_dict = {}\n",
    "    #set a break flag to False for error-checking\n",
    "    brk = False\n",
    "    #iterate thru each unique batter\n",
    "    for batter in batters:\n",
    "        if brk:\n",
    "            break\n",
    "        #make subset of the df for that batter and assign to variable batter_df    \n",
    "        batter_df = df[df['batter'] == batter]\n",
    "        \n",
    "        #assign all pitch categories to list:\n",
    "        all_pitch_cats = ['fastball', 'breaking', 'offspeed', 'pitchout']\n",
    "        #assign the pitch categories to a list\n",
    "        pitch_cats = batter_df['pitch_cat'].unique().tolist()\n",
    "        #get the normalized value counts of pitches by category that batter has faced\n",
    "        vc = batter_df.pitch_cat.value_counts(normalize=True)\n",
    "        #initialize empty dict for each batter\n",
    "        batter_dict = {}\n",
    "        \n",
    "        #if there are any pitch categories the batter has not faced, \n",
    "        unfaced_cats = list(set(all_pitch_cats) - set(pitch_cats))\n",
    "        \n",
    "        #assign NaNs to his dictionary for that category\n",
    "        for cat in unfaced_cats:\n",
    "            if cat == 'pitchout':\n",
    "                batter_dict[cat + '_perc_faced'] = 0\n",
    "            else:\n",
    "                batter_dict[cat + '_perc_faced'] = np.nan\n",
    "                batter_dict[cat + '_chase_perc'] = np.nan\n",
    "                batter_dict[cat + '_bip_swung_perc'] = np.nan\n",
    "                batter_dict[cat + '_taken_strike_perc'] = np.nan\n",
    "                batter_dict[cat + '_est_woba'] = np.nan\n",
    "                batter_dict[cat + '_babip'] = np.nan\n",
    "                batter_dict[cat + '_iso_value'] = np.nan\n",
    "        \n",
    "        for cat in pitch_cats:\n",
    "            if brk:\n",
    "                break\n",
    "        \n",
    "            #assign the % of pitches faced by the batter for that category to his batter dict\n",
    "            \n",
    "            batter_dict[cat + '_perc_faced'] = vc[cat] * 100\n",
    "        \n",
    "            #continue out of the loop for pitchout category since ball in play stats are NaN\n",
    "            if cat == 'pitchout':\n",
    "                continue\n",
    "        \n",
    "            #grab subset of batter df for the pitch category\n",
    "            cat_df = batter_df[batter_df['pitch_cat'] == cat]\n",
    "        \n",
    "            #calculate batters chase % for pitch type category on balls outside the strikezone\n",
    "            out_of_strikezone = len(cat_df[cat_df['in_strikezone'] == 0]) #num of times ball was out of zone\n",
    "            chased_count = len(cat_df[cat_df['chased'] == 1]) #num of times batter chased\n",
    "            try:\n",
    "                chase_perc = (chased_count / out_of_strikezone) * 100\n",
    "            except ZeroDivisionError:\n",
    "                chase_perc = np.nan\n",
    "            #assign the chase perc to the batter dict\n",
    "            batter_dict[cat + '_chase_perc'] = chase_perc\n",
    "        \n",
    "            #calc ball in play % for each swing for each pitch cat:\n",
    "            ball_in_play_count = len(cat_df[cat_df['type'] == 'X']) #type X means ball hit into play\n",
    "            swung_count = cat_df['batter_swung'].sum() #counts all the 1s in the swung column\n",
    "            #assign the ball in play % per swing to the batter dict\n",
    "            batter_dict[cat + '_bip_swung_perc'] = (ball_in_play_count / swung_count) * 100\n",
    "        \n",
    "            #calculate taken strike %\n",
    "            taken_strike_count = len(cat_df[(cat_df['in_strikezone'] == 1) & (cat_df['batter_swung'] == 0)])\n",
    "            pitches_in_zone_count = cat_df['in_strikezone'].sum() #counts the 1s in the in zone col\n",
    "            #assign to batter_dict\n",
    "            batter_dict[cat + '_taken_strike_perc'] = (taken_strike_count / pitches_in_zone_count) * 100\n",
    "        \n",
    "            #for each pitch type category, get the batters stats on balls hit in play\n",
    "            stats = ['estimated_woba_using_speedangle', 'babip_value', 'iso_value']\n",
    "            for stat in stats:\n",
    "                #drop Nans from the stat column and assign to new subset, for each stat\n",
    "                stat_cat_df = cat_df.dropna(subset=[stat])\n",
    "                if stat == 'estimated_woba_using_speedangle':\n",
    "                    #get the mean avg_est_woba\n",
    "                    avg_est_woba = stat_cat_df['estimated_woba_using_speedangle'].mean()\n",
    "                    #assign that value to the batters dictionary\n",
    "                    batter_dict[cat + '_est_woba'] = avg_est_woba\n",
    "                    if avg_est_woba == np.nan:\n",
    "                        print(batter)\n",
    "                        brk = True\n",
    "                        break\n",
    "                elif stat == 'babip_value':\n",
    "                    avg_babip = stat_cat_df['babip_value'].mean()\n",
    "                    batter_dict[cat + '_babip'] = avg_babip\n",
    "                else:\n",
    "                    avg_iso_value = stat_cat_df['iso_value'].mean()\n",
    "                    batter_dict[cat + '_iso_value'] = avg_iso_value\n",
    "            \n",
    "        #assign the batter dictionary to the main dictionary of all batters\n",
    "        batters_dict[batter] = batter_dict\n",
    "    if not brk:\n",
    "        print('iteration completed successfully')\n",
    "    return batters_dict\n",
    "\n",
    "batters_dict = make_batters_dict(df_17)"
   ]
  },
  {
   "cell_type": "markdown",
   "metadata": {},
   "source": [
    "#### Example batter:"
   ]
  },
  {
   "cell_type": "code",
   "execution_count": 13,
   "metadata": {},
   "outputs": [
    {
     "data": {
      "text/plain": [
       "{'pitchout_perc_faced': 0,\n",
       " 'fastball_perc_faced': 62.62068965517241,\n",
       " 'fastball_chase_perc': 22.134387351778656,\n",
       " 'fastball_bip_swung_perc': 35.54502369668246,\n",
       " 'fastball_taken_strike_perc': 22.885572139303484,\n",
       " 'fastball_est_woba': 0.38004000000000004,\n",
       " 'fastball_babip': 0.08547008547008547,\n",
       " 'fastball_iso_value': 0.1794871794871795,\n",
       " 'offspeed_perc_faced': 12.551724137931034,\n",
       " 'offspeed_chase_perc': 27.27272727272727,\n",
       " 'offspeed_bip_swung_perc': 35.13513513513514,\n",
       " 'offspeed_taken_strike_perc': 24.0,\n",
       " 'offspeed_est_woba': 0.5106153846153847,\n",
       " 'offspeed_babip': 0.10526315789473684,\n",
       " 'offspeed_iso_value': 0.5263157894736842,\n",
       " 'breaking_perc_faced': 24.82758620689655,\n",
       " 'breaking_chase_perc': 23.423423423423422,\n",
       " 'breaking_bip_swung_perc': 30.158730158730158,\n",
       " 'breaking_taken_strike_perc': 46.3768115942029,\n",
       " 'breaking_est_woba': 0.37794736842105264,\n",
       " 'breaking_babip': 0.20588235294117646,\n",
       " 'breaking_iso_value': 0.08823529411764706}"
      ]
     },
     "execution_count": 13,
     "metadata": {},
     "output_type": "execute_result"
    }
   ],
   "source": [
    "batter = list(batters_dict.keys())[0]\n",
    "\n",
    "batters_dict[batter]"
   ]
  },
  {
   "cell_type": "code",
   "execution_count": 14,
   "metadata": {},
   "outputs": [
    {
     "data": {
      "text/plain": [
       "957"
      ]
     },
     "execution_count": 14,
     "metadata": {},
     "output_type": "execute_result"
    }
   ],
   "source": [
    "len(batters_dict)"
   ]
  },
  {
   "cell_type": "code",
   "execution_count": 17,
   "metadata": {},
   "outputs": [
    {
     "data": {
      "text/html": [
       "<div>\n",
       "<style scoped>\n",
       "    .dataframe tbody tr th:only-of-type {\n",
       "        vertical-align: middle;\n",
       "    }\n",
       "\n",
       "    .dataframe tbody tr th {\n",
       "        vertical-align: top;\n",
       "    }\n",
       "\n",
       "    .dataframe thead th {\n",
       "        text-align: right;\n",
       "    }\n",
       "</style>\n",
       "<table border=\"1\" class=\"dataframe\">\n",
       "  <thead>\n",
       "    <tr style=\"text-align: right;\">\n",
       "      <th></th>\n",
       "      <th>batter</th>\n",
       "      <th>pitchout_perc_faced</th>\n",
       "      <th>fastball_perc_faced</th>\n",
       "      <th>fastball_chase_perc</th>\n",
       "      <th>fastball_bip_swung_perc</th>\n",
       "      <th>fastball_taken_strike_perc</th>\n",
       "      <th>fastball_est_woba</th>\n",
       "      <th>fastball_babip</th>\n",
       "      <th>fastball_iso_value</th>\n",
       "      <th>offspeed_perc_faced</th>\n",
       "      <th>offspeed_chase_perc</th>\n",
       "      <th>offspeed_bip_swung_perc</th>\n",
       "      <th>offspeed_taken_strike_perc</th>\n",
       "      <th>offspeed_est_woba</th>\n",
       "      <th>offspeed_babip</th>\n",
       "      <th>offspeed_iso_value</th>\n",
       "      <th>breaking_perc_faced</th>\n",
       "      <th>breaking_chase_perc</th>\n",
       "      <th>breaking_bip_swung_perc</th>\n",
       "      <th>breaking_taken_strike_perc</th>\n",
       "      <th>breaking_est_woba</th>\n",
       "      <th>breaking_babip</th>\n",
       "      <th>breaking_iso_value</th>\n",
       "    </tr>\n",
       "  </thead>\n",
       "  <tbody>\n",
       "    <tr>\n",
       "      <th>0</th>\n",
       "      <td>112526.0</td>\n",
       "      <td>0.000000</td>\n",
       "      <td>64.062500</td>\n",
       "      <td>47.368421</td>\n",
       "      <td>36.363636</td>\n",
       "      <td>40.909091</td>\n",
       "      <td>0.163250</td>\n",
       "      <td>0.000000</td>\n",
       "      <td>0.000000</td>\n",
       "      <td>1.562500</td>\n",
       "      <td>100.000000</td>\n",
       "      <td>0.000000</td>\n",
       "      <td>NaN</td>\n",
       "      <td>NaN</td>\n",
       "      <td>NaN</td>\n",
       "      <td>NaN</td>\n",
       "      <td>34.375000</td>\n",
       "      <td>73.333333</td>\n",
       "      <td>14.285714</td>\n",
       "      <td>57.142857</td>\n",
       "      <td>0.067500</td>\n",
       "      <td>0.000000</td>\n",
       "      <td>0.000000</td>\n",
       "    </tr>\n",
       "    <tr>\n",
       "      <th>1</th>\n",
       "      <td>134181.0</td>\n",
       "      <td>0.000000</td>\n",
       "      <td>61.026616</td>\n",
       "      <td>37.931034</td>\n",
       "      <td>41.317365</td>\n",
       "      <td>26.631854</td>\n",
       "      <td>0.397986</td>\n",
       "      <td>0.265385</td>\n",
       "      <td>0.223077</td>\n",
       "      <td>8.111534</td>\n",
       "      <td>19.047619</td>\n",
       "      <td>36.585366</td>\n",
       "      <td>43.181818</td>\n",
       "      <td>0.382133</td>\n",
       "      <td>0.166667</td>\n",
       "      <td>0.166667</td>\n",
       "      <td>30.861850</td>\n",
       "      <td>28.758170</td>\n",
       "      <td>36.734694</td>\n",
       "      <td>40.331492</td>\n",
       "      <td>0.337958</td>\n",
       "      <td>0.150943</td>\n",
       "      <td>0.122642</td>\n",
       "    </tr>\n",
       "    <tr>\n",
       "      <th>2</th>\n",
       "      <td>136860.0</td>\n",
       "      <td>0.000000</td>\n",
       "      <td>62.292531</td>\n",
       "      <td>31.048951</td>\n",
       "      <td>40.957447</td>\n",
       "      <td>29.629630</td>\n",
       "      <td>0.363623</td>\n",
       "      <td>0.196141</td>\n",
       "      <td>0.180064</td>\n",
       "      <td>11.203320</td>\n",
       "      <td>45.695364</td>\n",
       "      <td>50.434783</td>\n",
       "      <td>29.230769</td>\n",
       "      <td>0.263638</td>\n",
       "      <td>0.203125</td>\n",
       "      <td>0.062500</td>\n",
       "      <td>26.504149</td>\n",
       "      <td>39.814815</td>\n",
       "      <td>33.606557</td>\n",
       "      <td>38.502674</td>\n",
       "      <td>0.309512</td>\n",
       "      <td>0.152672</td>\n",
       "      <td>0.083969</td>\n",
       "    </tr>\n",
       "    <tr>\n",
       "      <th>3</th>\n",
       "      <td>150029.0</td>\n",
       "      <td>0.230415</td>\n",
       "      <td>65.284178</td>\n",
       "      <td>21.929825</td>\n",
       "      <td>37.974684</td>\n",
       "      <td>45.177665</td>\n",
       "      <td>0.444667</td>\n",
       "      <td>0.189655</td>\n",
       "      <td>0.183908</td>\n",
       "      <td>10.061444</td>\n",
       "      <td>31.395349</td>\n",
       "      <td>38.181818</td>\n",
       "      <td>37.777778</td>\n",
       "      <td>0.208571</td>\n",
       "      <td>0.131579</td>\n",
       "      <td>0.052632</td>\n",
       "      <td>24.423963</td>\n",
       "      <td>29.100529</td>\n",
       "      <td>32.824427</td>\n",
       "      <td>41.085271</td>\n",
       "      <td>0.346605</td>\n",
       "      <td>0.116883</td>\n",
       "      <td>0.103896</td>\n",
       "    </tr>\n",
       "    <tr>\n",
       "      <th>4</th>\n",
       "      <td>276520.0</td>\n",
       "      <td>0.000000</td>\n",
       "      <td>82.142857</td>\n",
       "      <td>31.250000</td>\n",
       "      <td>54.285714</td>\n",
       "      <td>32.432432</td>\n",
       "      <td>0.316368</td>\n",
       "      <td>0.173913</td>\n",
       "      <td>0.000000</td>\n",
       "      <td>1.190476</td>\n",
       "      <td>NaN</td>\n",
       "      <td>0.000000</td>\n",
       "      <td>0.000000</td>\n",
       "      <td>NaN</td>\n",
       "      <td>NaN</td>\n",
       "      <td>NaN</td>\n",
       "      <td>16.666667</td>\n",
       "      <td>54.545455</td>\n",
       "      <td>0.000000</td>\n",
       "      <td>100.000000</td>\n",
       "      <td>NaN</td>\n",
       "      <td>0.000000</td>\n",
       "      <td>0.000000</td>\n",
       "    </tr>\n",
       "  </tbody>\n",
       "</table>\n",
       "</div>"
      ],
      "text/plain": [
       "     batter  pitchout_perc_faced  fastball_perc_faced  fastball_chase_perc  \\\n",
       "0  112526.0             0.000000            64.062500            47.368421   \n",
       "1  134181.0             0.000000            61.026616            37.931034   \n",
       "2  136860.0             0.000000            62.292531            31.048951   \n",
       "3  150029.0             0.230415            65.284178            21.929825   \n",
       "4  276520.0             0.000000            82.142857            31.250000   \n",
       "\n",
       "   fastball_bip_swung_perc  fastball_taken_strike_perc  fastball_est_woba  \\\n",
       "0                36.363636                   40.909091           0.163250   \n",
       "1                41.317365                   26.631854           0.397986   \n",
       "2                40.957447                   29.629630           0.363623   \n",
       "3                37.974684                   45.177665           0.444667   \n",
       "4                54.285714                   32.432432           0.316368   \n",
       "\n",
       "   fastball_babip  fastball_iso_value  offspeed_perc_faced  \\\n",
       "0        0.000000            0.000000             1.562500   \n",
       "1        0.265385            0.223077             8.111534   \n",
       "2        0.196141            0.180064            11.203320   \n",
       "3        0.189655            0.183908            10.061444   \n",
       "4        0.173913            0.000000             1.190476   \n",
       "\n",
       "   offspeed_chase_perc  offspeed_bip_swung_perc  offspeed_taken_strike_perc  \\\n",
       "0           100.000000                 0.000000                         NaN   \n",
       "1            19.047619                36.585366                   43.181818   \n",
       "2            45.695364                50.434783                   29.230769   \n",
       "3            31.395349                38.181818                   37.777778   \n",
       "4                  NaN                 0.000000                    0.000000   \n",
       "\n",
       "   offspeed_est_woba  offspeed_babip  offspeed_iso_value  breaking_perc_faced  \\\n",
       "0                NaN             NaN                 NaN            34.375000   \n",
       "1           0.382133        0.166667            0.166667            30.861850   \n",
       "2           0.263638        0.203125            0.062500            26.504149   \n",
       "3           0.208571        0.131579            0.052632            24.423963   \n",
       "4                NaN             NaN                 NaN            16.666667   \n",
       "\n",
       "   breaking_chase_perc  breaking_bip_swung_perc  breaking_taken_strike_perc  \\\n",
       "0            73.333333                14.285714                   57.142857   \n",
       "1            28.758170                36.734694                   40.331492   \n",
       "2            39.814815                33.606557                   38.502674   \n",
       "3            29.100529                32.824427                   41.085271   \n",
       "4            54.545455                 0.000000                  100.000000   \n",
       "\n",
       "   breaking_est_woba  breaking_babip  breaking_iso_value  \n",
       "0           0.067500        0.000000            0.000000  \n",
       "1           0.337958        0.150943            0.122642  \n",
       "2           0.309512        0.152672            0.083969  \n",
       "3           0.346605        0.116883            0.103896  \n",
       "4                NaN        0.000000            0.000000  "
      ]
     },
     "execution_count": 17,
     "metadata": {},
     "output_type": "execute_result"
    }
   ],
   "source": [
    "batters_df = pd.DataFrame.from_dict(batters_dict, orient='index')\n",
    "batters_df = batters_df.reset_index().rename(columns={'index':'batter'})\n",
    "batters_df.head()"
   ]
  },
  {
   "cell_type": "code",
   "execution_count": 18,
   "metadata": {},
   "outputs": [
    {
     "data": {
      "text/plain": [
       "batter                          0\n",
       "pitchout_perc_faced             0\n",
       "fastball_perc_faced             1\n",
       "fastball_chase_perc            21\n",
       "fastball_bip_swung_perc        20\n",
       "fastball_taken_strike_perc      9\n",
       "fastball_est_woba              67\n",
       "fastball_babip                 27\n",
       "fastball_iso_value             27\n",
       "offspeed_perc_faced           189\n",
       "offspeed_chase_perc           214\n",
       "offspeed_bip_swung_perc       219\n",
       "offspeed_taken_strike_perc    240\n",
       "offspeed_est_woba             280\n",
       "offspeed_babip                242\n",
       "offspeed_iso_value            242\n",
       "breaking_perc_faced            73\n",
       "breaking_chase_perc           112\n",
       "breaking_bip_swung_perc       113\n",
       "breaking_taken_strike_perc    119\n",
       "breaking_est_woba             211\n",
       "breaking_babip                125\n",
       "breaking_iso_value            125\n",
       "dtype: int64"
      ]
     },
     "execution_count": 18,
     "metadata": {},
     "output_type": "execute_result"
    }
   ],
   "source": [
    "batters_df.isna().sum()"
   ]
  },
  {
   "cell_type": "markdown",
   "metadata": {},
   "source": [
    "## Next steps:\n",
    "-merge batters_df, one to many, with the main df (df_17 in this case)\n",
    "    - join on df['batter'] == batters_df['batter']"
   ]
  }
 ],
 "metadata": {
  "kernelspec": {
   "display_name": "Python 3",
   "language": "python",
   "name": "python3"
  },
  "language_info": {
   "codemirror_mode": {
    "name": "ipython",
    "version": 3
   },
   "file_extension": ".py",
   "mimetype": "text/x-python",
   "name": "python",
   "nbconvert_exporter": "python",
   "pygments_lexer": "ipython3",
   "version": "3.6.8"
  }
 },
 "nbformat": 4,
 "nbformat_minor": 2
}
