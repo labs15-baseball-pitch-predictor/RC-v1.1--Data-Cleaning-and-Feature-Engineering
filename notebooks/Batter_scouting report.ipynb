{
 "cells": [
  {
   "cell_type": "code",
   "execution_count": 72,
   "metadata": {},
   "outputs": [],
   "source": [
    "import pandas as pd\n",
    "import numpy as np\n",
    "import random\n",
    "pd.set_option('display.max_columns', 500)\n",
    "pd.set_option('display.max_rows', 500)"
   ]
  },
  {
   "cell_type": "code",
   "execution_count": 73,
   "metadata": {},
   "outputs": [
    {
     "name": "stdout",
     "output_type": "stream",
     "text": [
      "/home/jm/Desktop/lambda_projects/pitch_predict\n"
     ]
    }
   ],
   "source": [
    "cd .."
   ]
  },
  {
   "cell_type": "code",
   "execution_count": 74,
   "metadata": {},
   "outputs": [
    {
     "name": "stdout",
     "output_type": "stream",
     "text": [
      "/home/jm/Desktop/lambda_projects/pitch_predict/data\n"
     ]
    }
   ],
   "source": [
    "cd data"
   ]
  },
  {
   "cell_type": "code",
   "execution_count": 75,
   "metadata": {},
   "outputs": [],
   "source": [
    "fname = 'pitches_2017.pkl'\n",
    "df_17 = pd.read_pickle(fname, compression='zip')\n",
    "\n",
    "#convert the pitch type for UN (unknown) to np.nan\n",
    "df_17['pitch_type'] = df_17['pitch_type'].replace({'UN':np.nan})"
   ]
  },
  {
   "cell_type": "code",
   "execution_count": 76,
   "metadata": {},
   "outputs": [],
   "source": [
    "def strikezone_wrangle(df):\n",
    "    df = df.copy()\n",
    "    \n",
    "    #create swung column\n",
    "    def swung(x):\n",
    "        swung = ['foul','hit_into_play','swinging_strike','hit_into_play_no_out',\n",
    "                 'hit_into_play_score','foul_tip','swinging_strike_blocked',\n",
    "                 'foul_bunt','missed_bunt']\n",
    "        return 1 if x in swung else 0\n",
    "    df['batter_swung'] = df['description'].apply(swung)\n",
    "    \n",
    "    #initialize in_strikezone and chased features:\n",
    "    df['in_strikezone'] = 1\n",
    "    df['chased'] = 0\n",
    "    \n",
    "    #iterate thru each row\n",
    "    for index, row in df.iterrows():\n",
    "        #if ball is outside the strikezone, change the value for that row to 0\n",
    "        if row.plate_z > row.sz_top or row.plate_z < row.sz_bot or row.plate_x < -0.73 or row.plate_x > 0.73:\n",
    "            df.at[index, 'in_strikezone'] = 0\n",
    "        #if batter_swung at ball outside the strike zone, change chased value to 1:\n",
    "        if df.at[index, 'batter_swung'] == 1 and df.at[index, 'in_strikezone'] == 0:\n",
    "            df.at[index, 'chased'] = 1\n",
    "    return df"
   ]
  },
  {
   "cell_type": "code",
   "execution_count": 77,
   "metadata": {},
   "outputs": [
    {
     "name": "stdout",
     "output_type": "stream",
     "text": [
      "CPU times: user 2min 19s, sys: 2.92 s, total: 2min 22s\n",
      "Wall time: 2min 25s\n"
     ]
    }
   ],
   "source": [
    "%%time\n",
    "df_17 = strikezone_wrangle(df_17)"
   ]
  },
  {
   "cell_type": "code",
   "execution_count": 78,
   "metadata": {},
   "outputs": [],
   "source": [
    "def gen_pitcher_percentages(df):\n",
    "    df = df.copy()\n",
    "    #get all the unique pitcher names in the df\n",
    "    pitcher_list = df.player_name.unique().tolist()\n",
    "    #initialize empty dictionary to store each pitcher and their pitches and percentages for each pitch\n",
    "    pitcher_dict = {}\n",
    "    #iterate over each pitcher:\n",
    "    for pitcher in pitcher_list:\n",
    "        #assign the normalized value_counts to a variable\n",
    "        pitch_percentages = df[df.player_name == pitcher].pitch_type.value_counts(normalize=True)\n",
    "        #convert that Series object to a dict and assign it as the value to the pitcher dictionary \n",
    "        #(pitcher name as key)\n",
    "        pitcher_dict[pitcher] = pitch_percentages.to_dict()\n",
    "    return pitcher_dict\n",
    "\n",
    "def fill_pitch_type_nans(df):\n",
    "    df = df.copy()\n",
    "    #grab the rows where pitch_type is null:\n",
    "    nulls = df[df.pitch_type.isna()]\n",
    "    \n",
    "    #generate the dictionary of pitch type % by pitcher\n",
    "    pitcher_dict = gen_pitcher_percentages(df)\n",
    "    \n",
    "    #iterate over each null row\n",
    "    for index, row in nulls.iterrows():\n",
    "        #use the % for that pitcher for each pitch type he throws to generate a random pitch type with \n",
    "        #that % as weight\n",
    "        pitch = random.choices(population=list(pitcher_dict[row.player_name].keys()), \n",
    "                               weights=list(pitcher_dict[row.player_name].values()), \n",
    "                               k=1)[0]\n",
    "        #fill the NaN value with the randomly generated pitch\n",
    "        df.at[index, 'pitch_type'] = pitch\n",
    "    return df"
   ]
  },
  {
   "cell_type": "code",
   "execution_count": 79,
   "metadata": {},
   "outputs": [
    {
     "data": {
      "text/plain": [
       "2215"
      ]
     },
     "execution_count": 79,
     "metadata": {},
     "output_type": "execute_result"
    }
   ],
   "source": [
    "df_17.pitch_type.isna().sum()"
   ]
  },
  {
   "cell_type": "code",
   "execution_count": 80,
   "metadata": {},
   "outputs": [
    {
     "name": "stdout",
     "output_type": "stream",
     "text": [
      "CPU times: user 43.2 s, sys: 440 ms, total: 43.7 s\n",
      "Wall time: 44.1 s\n"
     ]
    }
   ],
   "source": [
    "%%time\n",
    "df_17 = fill_pitch_type_nans(df_17)"
   ]
  },
  {
   "cell_type": "code",
   "execution_count": 81,
   "metadata": {},
   "outputs": [
    {
     "data": {
      "text/plain": [
       "0"
      ]
     },
     "execution_count": 81,
     "metadata": {},
     "output_type": "execute_result"
    }
   ],
   "source": [
    "df_17.pitch_type.isna().sum()"
   ]
  },
  {
   "cell_type": "code",
   "execution_count": 82,
   "metadata": {},
   "outputs": [
    {
     "data": {
      "text/plain": [
       "FF    253995\n",
       "SL    117637\n",
       "FT     94614\n",
       "CH     71753\n",
       "CU     56762\n",
       "SI     52405\n",
       "FC     37617\n",
       "KC     21404\n",
       "FS     11778\n",
       "KN      2688\n",
       "FO       248\n",
       "EP       187\n",
       "PO       116\n",
       "SC        39\n",
       "Name: pitch_type, dtype: int64"
      ]
     },
     "execution_count": 82,
     "metadata": {},
     "output_type": "execute_result"
    }
   ],
   "source": [
    "df_17.pitch_type.value_counts()"
   ]
  },
  {
   "cell_type": "markdown",
   "metadata": {},
   "source": [
    "## Categorize pitch type into fastball, breaking, or offspeed, (or pitchout)"
   ]
  },
  {
   "cell_type": "markdown",
   "metadata": {},
   "source": [
    "#### Fastballs\n",
    "FA = fastball, FF = four-seam fastball, FT = two-seam fastball, FC = fastball (cutter), \n",
    "\n",
    "FS / SI / SF = fastball (sinker, split-fingered)\n",
    "\n",
    "#### Breaking\n",
    "SL = slider, CB / CU = curveball, KC = knuckle-curve, SC = screwball\n",
    "\n",
    "#### Offspeed\n",
    "CH = changeup, KN = knuckleball, EP = eephus\n",
    "\n",
    "#### Pitchout\n",
    "PO / FO = pitch out\n",
    "\n"
   ]
  },
  {
   "cell_type": "code",
   "execution_count": 83,
   "metadata": {},
   "outputs": [],
   "source": [
    "#create map for pitch type into categories:\n",
    "pitch_type_map = {'FA':'fastball', 'FF':'fastball', 'FT':'fastball', 'FC':'fastball',\n",
    "                  'FS':'fastball', 'SI':'fastball', 'SF':'fastball', 'SL':'breaking',\n",
    "                  'CB':'breaking', 'CU':'breaking', 'SC':'breaking', 'KC':'breaking',\n",
    "                  'CH':'offspeed', 'KN':'offspeed', 'EP':'offspeed', 'FO':'pitchout', \n",
    "                  'PO':'pitchout'}\n",
    "\n",
    "#create pitch cateogory feature\n",
    "df_17['pitch_cat'] = df_17['pitch_type']\n",
    "df_17['pitch_cat'] = df_17['pitch_cat'].replace(pitch_type_map)"
   ]
  },
  {
   "cell_type": "code",
   "execution_count": 84,
   "metadata": {},
   "outputs": [
    {
     "data": {
      "text/plain": [
       "fastball    450409\n",
       "breaking    195842\n",
       "offspeed     74628\n",
       "pitchout       364\n",
       "Name: pitch_cat, dtype: int64"
      ]
     },
     "execution_count": 84,
     "metadata": {},
     "output_type": "execute_result"
    }
   ],
   "source": [
    "df_17['pitch_cat'].value_counts(dropna=False)"
   ]
  },
  {
   "cell_type": "markdown",
   "metadata": {},
   "source": [
    "# Batter Scouting Report\n",
    "## Batter features vs diff pitch type categories:"
   ]
  },
  {
   "cell_type": "code",
   "execution_count": 85,
   "metadata": {},
   "outputs": [],
   "source": [
    "batters = list(df_17.batter.unique())"
   ]
  },
  {
   "cell_type": "code",
   "execution_count": 86,
   "metadata": {},
   "outputs": [
    {
     "data": {
      "text/plain": [
       "957"
      ]
     },
     "execution_count": 86,
     "metadata": {},
     "output_type": "execute_result"
    }
   ],
   "source": [
    "len(batters)"
   ]
  },
  {
   "cell_type": "code",
   "execution_count": 87,
   "metadata": {},
   "outputs": [
    {
     "name": "stdout",
     "output_type": "stream",
     "text": [
      "CPU times: user 35.2 s, sys: 196 ms, total: 35.3 s\n",
      "Wall time: 35.4 s\n"
     ]
    }
   ],
   "source": [
    "%%time\n",
    "batters_dict = {}\n",
    "brk = False\n",
    "for batter in batters:\n",
    "    if brk:\n",
    "        break\n",
    "    batter_df = df_17[df_17['batter'] == batter]\n",
    "    pitch_cats = batter_df['pitch_cat'].value_counts().index.tolist()\n",
    "    vc = batter_df.pitch_cat.value_counts(normalize=True)\n",
    "    batter_dict = {}\n",
    "    \n",
    "    for cat in pitch_cats:\n",
    "        if brk:\n",
    "            break\n",
    "        batter_dict[cat] = {}\n",
    "        \n",
    "        #get the total % of pitches the batter faced for that pitch category\n",
    "        batter_dict[cat]['perc_faced'] = vc[cat] * 100\n",
    "        \n",
    "        #grab subset of batter df for the pitch category\n",
    "        cat_df = batter_df[batter_df['pitch_cat'] == cat]\n",
    "        \n",
    "        #calculate batters chase % for pitch type category on balls outside the strikezone\n",
    "        out_of_strikezone = len(cat_df[cat_df['in_strikezone'] == 0]) #num of times ball was out of zone\n",
    "        chased_count = len(cat_df[cat_df['chased'] == 1]) #num of times batter chased\n",
    "        try:\n",
    "            chase_perc = chased_count / out_of_strikezone\n",
    "        except:\n",
    "            chase_perc = np.nan\n",
    "            \n",
    "        #assign the chase perc to the batter dict\n",
    "        batter_dict[cat]['chase_perc'] = chase_perc * 100\n",
    "        \n",
    "        stats = ['estimated_woba_using_speedangle', 'babip_value', 'iso_value']\n",
    "        for stat in stats:\n",
    "            stat_cat_df = cat_df.dropna(subset=[stat])\n",
    "            if stat == 'estimated_woba_using_speedangle':\n",
    "                avg_est_woba = stat_cat_df['estimated_woba_using_speedangle'].mean()\n",
    "                batter_dict[cat]['est_woba'] = avg_est_woba\n",
    "                if avg_est_woba == np.nan:\n",
    "                    print(batter)\n",
    "                    brk = True\n",
    "                    break\n",
    "            elif stat == 'babip_value':\n",
    "                avg_babip = stat_cat_df['babip_value'].mean()\n",
    "                batter_dict[cat]['babip'] = avg_babip\n",
    "            else:\n",
    "                avg_iso_value = stat_cat_df['iso_value'].mean()\n",
    "                batter_dict[cat]['iso_value'] = avg_iso_value\n",
    "    batters_dict[batter] = batter_dict"
   ]
  },
  {
   "cell_type": "code",
   "execution_count": 88,
   "metadata": {},
   "outputs": [
    {
     "data": {
      "text/plain": [
       "{'fastball': {'perc_faced': 62.62068965517241,\n",
       "  'chase_perc': 22.134387351778656,\n",
       "  'est_woba': 0.37744594594594594,\n",
       "  'babip': 0.07758620689655173,\n",
       "  'iso_value': 0.1724137931034483},\n",
       " 'breaking': {'perc_faced': 24.82758620689655,\n",
       "  'chase_perc': 23.423423423423422,\n",
       "  'est_woba': 0.38765,\n",
       "  'babip': 0.22857142857142856,\n",
       "  'iso_value': 0.11428571428571428},\n",
       " 'offspeed': {'perc_faced': 12.551724137931034,\n",
       "  'chase_perc': 27.27272727272727,\n",
       "  'est_woba': 0.5106153846153847,\n",
       "  'babip': 0.10526315789473684,\n",
       "  'iso_value': 0.5263157894736842}}"
      ]
     },
     "execution_count": 88,
     "metadata": {},
     "output_type": "execute_result"
    }
   ],
   "source": [
    "#batter example:\n",
    "ex_batter = batters[0]\n",
    "\n",
    "batters_dict[ex_batter]"
   ]
  },
  {
   "cell_type": "code",
   "execution_count": 89,
   "metadata": {},
   "outputs": [
    {
     "data": {
      "text/plain": [
       "957"
      ]
     },
     "execution_count": 89,
     "metadata": {},
     "output_type": "execute_result"
    }
   ],
   "source": [
    "len(batters_dict)"
   ]
  }
 ],
 "metadata": {
  "kernelspec": {
   "display_name": "Python 3",
   "language": "python",
   "name": "python3"
  },
  "language_info": {
   "codemirror_mode": {
    "name": "ipython",
    "version": 3
   },
   "file_extension": ".py",
   "mimetype": "text/x-python",
   "name": "python",
   "nbconvert_exporter": "python",
   "pygments_lexer": "ipython3",
   "version": "3.6.8"
  }
 },
 "nbformat": 4,
 "nbformat_minor": 2
}
