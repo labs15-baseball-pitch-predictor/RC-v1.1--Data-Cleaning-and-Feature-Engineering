{
 "cells": [
  {
   "cell_type": "code",
   "execution_count": 1,
   "metadata": {},
   "outputs": [],
   "source": [
    "import pandas as pd\n",
    "import numpy as np\n",
    "import random\n",
    "pd.set_option('display.max_columns', 500)\n",
    "pd.set_option('display.max_rows', 500)"
   ]
  },
  {
   "cell_type": "code",
   "execution_count": 2,
   "metadata": {},
   "outputs": [],
   "source": [
    "fname = 'pitches_2017.pkl'\n",
    "df_17 = pd.read_pickle(fname, compression='zip')\n",
    "\n",
    "#convert the pitch type for UN (unknown) to np.nan\n",
    "df_17['pitch_type'] = df_17['pitch_type'].replace({'UN':np.nan})"
   ]
  },
  {
   "cell_type": "code",
   "execution_count": 3,
   "metadata": {},
   "outputs": [],
   "source": [
    "def strikezone_wrangle(df):\n",
    "    df = df.copy()\n",
    "    \n",
    "    #create swung column\n",
    "    def swung(x):\n",
    "        swung = ['foul','hit_into_play','swinging_strike','hit_into_play_no_out',\n",
    "                 'hit_into_play_score','foul_tip','swinging_strike_blocked',\n",
    "                 'foul_bunt','missed_bunt']\n",
    "        return 1 if x in swung else 0\n",
    "    df['batter_swung'] = df['description'].apply(swung)\n",
    "    \n",
    "    #initialize in_strikezone and chased features:\n",
    "    df['in_strikezone'] = 1\n",
    "    df['chased'] = 0\n",
    "    \n",
    "    #iterate thru each row\n",
    "    for index, row in df.iterrows():\n",
    "        #if ball is outside the strikezone, change the value for that row to 0\n",
    "        if row.plate_z > row.sz_top or row.plate_z < row.sz_bot or row.plate_x < -0.73 or row.plate_x > 0.73:\n",
    "            df.at[index, 'in_strikezone'] = 0\n",
    "        #if batter_swung at ball outside the strike zone, change chased value to 1:\n",
    "        if df.at[index, 'batter_swung'] == 1 and df.at[index, 'in_strikezone'] == 0:\n",
    "            df.at[index, 'chased'] = 1\n",
    "    return df"
   ]
  },
  {
   "cell_type": "code",
   "execution_count": null,
   "metadata": {},
   "outputs": [],
   "source": [
    "%%time\n",
    "df_17 = strikezone_wrangle(df_17)"
   ]
  },
  {
   "cell_type": "code",
   "execution_count": 5,
   "metadata": {},
   "outputs": [],
   "source": [
    "def gen_pitcher_percentages(df):\n",
    "    df = df.copy()\n",
    "    #get all the unique pitcher names in the df\n",
    "    pitcher_list = df.player_name.unique().tolist()\n",
    "    #initialize empty dictionary to store each pitcher and their pitches and percentages for each pitch\n",
    "    pitcher_dict = {}\n",
    "    #iterate over each pitcher:\n",
    "    for pitcher in pitcher_list:\n",
    "        #assign the normalized value_counts to a variable\n",
    "        pitch_percentages = df[df.player_name == pitcher].pitch_type.value_counts(normalize=True)\n",
    "        #convert that Series object to a dict and assign it as the value to the pitcher dictionary \n",
    "        #(pitcher name as key)\n",
    "        pitcher_dict[pitcher] = pitch_percentages.to_dict()\n",
    "    return pitcher_dict\n",
    "\n",
    "def fill_pitch_type_nans(df):\n",
    "    df = df.copy()\n",
    "    #grab the rows where pitch_type is null:\n",
    "    nulls = df[df.pitch_type.isna()]\n",
    "    \n",
    "    #generate the dictionary of pitch type % by pitcher\n",
    "    pitcher_dict = gen_pitcher_percentages(df)\n",
    "    \n",
    "    #iterate over each null row\n",
    "    for index, row in nulls.iterrows():\n",
    "        #use the % for that pitcher for each pitch type he throws to generate a random pitch type with \n",
    "        #that % as weight\n",
    "        pitch = random.choices(population=list(pitcher_dict[row.player_name].keys()), \n",
    "                               weights=list(pitcher_dict[row.player_name].values()), \n",
    "                               k=1)[0]\n",
    "        #fill the NaN value with the randomly generated pitch\n",
    "        df.at[index, 'pitch_type'] = pitch\n",
    "    return df"
   ]
  },
  {
   "cell_type": "code",
   "execution_count": 6,
   "metadata": {},
   "outputs": [
    {
     "data": {
      "text/plain": [
       "2215"
      ]
     },
     "execution_count": 6,
     "metadata": {},
     "output_type": "execute_result"
    }
   ],
   "source": [
    "df_17.pitch_type.isna().sum()"
   ]
  },
  {
   "cell_type": "code",
   "execution_count": 7,
   "metadata": {},
   "outputs": [
    {
     "name": "stdout",
     "output_type": "stream",
     "text": [
      "CPU times: user 1min, sys: 560 ms, total: 1min 1s\n",
      "Wall time: 1min 1s\n"
     ]
    }
   ],
   "source": [
    "%%time\n",
    "df_17 = fill_pitch_type_nans(df_17)"
   ]
  },
  {
   "cell_type": "code",
   "execution_count": 8,
   "metadata": {},
   "outputs": [
    {
     "data": {
      "text/plain": [
       "0"
      ]
     },
     "execution_count": 8,
     "metadata": {},
     "output_type": "execute_result"
    }
   ],
   "source": [
    "df_17.pitch_type.isna().sum()"
   ]
  },
  {
   "cell_type": "code",
   "execution_count": 9,
   "metadata": {},
   "outputs": [
    {
     "data": {
      "text/plain": [
       "FF    254021\n",
       "SL    117668\n",
       "FT     94633\n",
       "CH     71742\n",
       "CU     56710\n",
       "SI     52400\n",
       "FC     37607\n",
       "KC     21399\n",
       "FS     11782\n",
       "KN      2690\n",
       "FO       248\n",
       "EP       188\n",
       "PO       116\n",
       "SC        39\n",
       "Name: pitch_type, dtype: int64"
      ]
     },
     "execution_count": 9,
     "metadata": {},
     "output_type": "execute_result"
    }
   ],
   "source": [
    "df_17.pitch_type.value_counts()"
   ]
  },
  {
   "cell_type": "markdown",
   "metadata": {},
   "source": [
    "## Categorize pitch type into fastball, breaking, or offspeed, (or pitchout)"
   ]
  },
  {
   "cell_type": "markdown",
   "metadata": {},
   "source": [
    "#### Fastballs\n",
    "FA = fastball, FF = four-seam fastball, FT = two-seam fastball, FC = fastball (cutter), \n",
    "\n",
    "FS / SI / SF = fastball (sinker, split-fingered)\n",
    "\n",
    "#### Breaking\n",
    "SL = slider, CB / CU = curveball, KC = knuckle-curve, SC = screwball\n",
    "\n",
    "#### Offspeed\n",
    "CH = changeup, KN = knuckleball, EP = eephus\n",
    "\n",
    "#### Pitchout\n",
    "PO / FO = pitch out\n",
    "\n"
   ]
  },
  {
   "cell_type": "code",
   "execution_count": 10,
   "metadata": {},
   "outputs": [],
   "source": [
    "#create map for pitch type into categories:\n",
    "pitch_type_map = {'FA':'fastball', 'FF':'fastball', 'FT':'fastball', 'FC':'fastball',\n",
    "                  'FS':'fastball', 'SI':'fastball', 'SF':'fastball', 'SL':'breaking',\n",
    "                  'CB':'breaking', 'CU':'breaking', 'SC':'breaking', 'KC':'breaking',\n",
    "                  'CH':'offspeed', 'KN':'offspeed', 'EP':'offspeed', 'FO':'pitchout', \n",
    "                  'PO':'pitchout'}\n",
    "\n",
    "#create pitch cateogory feature\n",
    "df_17['pitch_cat'] = df_17['pitch_type']\n",
    "df_17['pitch_cat'] = df_17['pitch_cat'].replace(pitch_type_map)"
   ]
  },
  {
   "cell_type": "code",
   "execution_count": 11,
   "metadata": {},
   "outputs": [
    {
     "data": {
      "text/plain": [
       "fastball    450443\n",
       "breaking    195816\n",
       "offspeed     74620\n",
       "pitchout       364\n",
       "Name: pitch_cat, dtype: int64"
      ]
     },
     "execution_count": 11,
     "metadata": {},
     "output_type": "execute_result"
    }
   ],
   "source": [
    "df_17['pitch_cat'].value_counts(dropna=False)"
   ]
  },
  {
   "cell_type": "markdown",
   "metadata": {},
   "source": [
    "# Batter Scouting Report\n",
    "## Batter features vs diff pitch type categories:"
   ]
  },
  {
   "cell_type": "code",
   "execution_count": 12,
   "metadata": {},
   "outputs": [
    {
     "name": "stderr",
     "output_type": "stream",
     "text": [
      "/home/jm/.local/lib/python3.6/site-packages/ipykernel_launcher.py:71: RuntimeWarning: invalid value encountered in long_scalars\n",
      "/home/jm/.local/lib/python3.6/site-packages/ipykernel_launcher.py:77: RuntimeWarning: invalid value encountered in long_scalars\n"
     ]
    },
    {
     "name": "stdout",
     "output_type": "stream",
     "text": [
      "iteration completed successfully\n",
      "CPU times: user 55.6 s, sys: 560 ms, total: 56.2 s\n",
      "Wall time: 56.2 s\n"
     ]
    }
   ],
   "source": [
    "%%time\n",
    "def make_batters_dict(df):\n",
    "    df = df.copy()\n",
    "    #make list of the unique batter ids\n",
    "    batters = list(df['batter'].unique())\n",
    "    #initialize empty dictionary to store the batter stats\n",
    "    batters_dict = {}\n",
    "    #set a break flag to False for error-checking\n",
    "    brk = False\n",
    "    #iterate thru each unique batter\n",
    "    for batter in batters:\n",
    "        if brk:\n",
    "            break\n",
    "        #make subset of the df for that batter and assign to variable batter_df    \n",
    "        batter_df = df[df['batter'] == batter]\n",
    "        \n",
    "        #assign all pitch categories to list:\n",
    "        all_pitch_cats = ['fastball', 'breaking', 'offspeed', 'pitchout']\n",
    "        #assign the pitch categories to a list\n",
    "        pitch_cats = batter_df['pitch_cat'].unique().tolist()\n",
    "        #get the normalized value counts of pitches by category that batter has faced\n",
    "        vc = batter_df.pitch_cat.value_counts(normalize=True)\n",
    "        #initialize empty dict for each batter\n",
    "        batter_dict = {}\n",
    "        \n",
    "        #if there are any pitch categories the batter has not faced, \n",
    "        unfaced_cats = list(set(all_pitch_cats) - set(pitch_cats))\n",
    "        \n",
    "        #assign NaNs to his dictionary for that category\n",
    "        for cat in unfaced_cats:\n",
    "            batter_dict[cat] = {}\n",
    "            if cat == 'pitchout':\n",
    "                batter_dict[cat]['perc_faced'] = 0\n",
    "            else:\n",
    "                batter_dict[cat]['perc_faced'] = np.nan\n",
    "                batter_dict[cat]['chase_perc'] = np.nan\n",
    "                batter_dict[cat]['bip_swung_perc'] = np.nan\n",
    "                batter_dict[cat]['taken_strike_perc'] = np.nan\n",
    "                batter_dict[cat]['est_woba'] = np.nan\n",
    "                batter_dict[cat]['babip'] = np.nan\n",
    "                batter_dict[cat]['iso_value'] = np.nan\n",
    "        \n",
    "        for cat in pitch_cats:\n",
    "            if brk:\n",
    "                break\n",
    "            batter_dict[cat] = {}\n",
    "        \n",
    "            #assign the % of pitches faced by the batter for that category to his batter dict\n",
    "            batter_dict[cat]['perc_faced'] = vc[cat] * 100\n",
    "        \n",
    "            #continue out of the loop for pitchout category since ball in play stats are NaN\n",
    "            if cat == 'pitchout':\n",
    "                continue\n",
    "        \n",
    "            #grab subset of batter df for the pitch category\n",
    "            cat_df = batter_df[batter_df['pitch_cat'] == cat]\n",
    "        \n",
    "            #calculate batters chase % for pitch type category on balls outside the strikezone\n",
    "            out_of_strikezone = len(cat_df[cat_df['in_strikezone'] == 0]) #num of times ball was out of zone\n",
    "            chased_count = len(cat_df[cat_df['chased'] == 1]) #num of times batter chased\n",
    "            try:\n",
    "                chase_perc = (chased_count / out_of_strikezone) * 100\n",
    "            except ZeroDivisionError:\n",
    "                chase_perc = np.nan\n",
    "            #assign the chase perc to the batter dict\n",
    "            batter_dict[cat]['chase_perc'] = chase_perc\n",
    "        \n",
    "            #calc ball in play % for each swing for each pitch cat:\n",
    "            ball_in_play_count = len(cat_df[cat_df['type'] == 'X']) #type X means ball hit into play\n",
    "            swung_count = cat_df['batter_swung'].sum() #counts all the 1s in the swung column\n",
    "            #assign the ball in play % per swing to the batter dict\n",
    "            batter_dict[cat]['bip_swung_perc'] = (ball_in_play_count / swung_count) * 100\n",
    "        \n",
    "            #calculate taken strike %\n",
    "            taken_strike_count = len(cat_df[(cat_df['in_strikezone'] == 1) & (cat_df['batter_swung'] == 0)])\n",
    "            pitches_in_zone_count = cat_df['in_strikezone'].sum() #counts the 1s in the in zone col\n",
    "            #assign to batter_dict\n",
    "            batter_dict[cat]['taken_strike_perc'] = (taken_strike_count / pitches_in_zone_count) * 100\n",
    "        \n",
    "            #for each pitch type category, get the batters stats on balls hit in play\n",
    "            stats = ['estimated_woba_using_speedangle', 'babip_value', 'iso_value']\n",
    "            for stat in stats:\n",
    "                #drop Nans from the stat column and assign to new subset, for each stat\n",
    "                stat_cat_df = cat_df.dropna(subset=[stat])\n",
    "                if stat == 'estimated_woba_using_speedangle':\n",
    "                    #get the mean avg_est_woba\n",
    "                    avg_est_woba = stat_cat_df['estimated_woba_using_speedangle'].mean()\n",
    "                    #assign that value to the batters dictionary\n",
    "                    batter_dict[cat]['est_woba'] = avg_est_woba\n",
    "                    if avg_est_woba == np.nan:\n",
    "                        print(batter)\n",
    "                        brk = True\n",
    "                        break\n",
    "                elif stat == 'babip_value':\n",
    "                    avg_babip = stat_cat_df['babip_value'].mean()\n",
    "                    batter_dict[cat]['babip'] = avg_babip\n",
    "                else:\n",
    "                    avg_iso_value = stat_cat_df['iso_value'].mean()\n",
    "                    batter_dict[cat]['iso_value'] = avg_iso_value\n",
    "            \n",
    "        #assign the batter dictionary to the main dictionary of all batters\n",
    "        batters_dict[batter] = batter_dict\n",
    "    if not brk:\n",
    "        print('iteration completed successfully')\n",
    "    return batters_dict\n",
    "\n",
    "batters_dict = make_batters_dict(df_17)"
   ]
  },
  {
   "cell_type": "markdown",
   "metadata": {},
   "source": [
    "#### Example batter:"
   ]
  },
  {
   "cell_type": "code",
   "execution_count": 19,
   "metadata": {},
   "outputs": [
    {
     "data": {
      "text/plain": [
       "{'pitchout': {'perc_faced': 0},\n",
       " 'fastball': {'perc_faced': 62.89655172413793,\n",
       "  'chase_perc': 22.134387351778656,\n",
       "  'bip_swung_perc': 35.37735849056604,\n",
       "  'taken_strike_perc': 23.15270935960591,\n",
       "  'est_woba': 0.38004000000000004,\n",
       "  'babip': 0.08547008547008547,\n",
       "  'iso_value': 0.1794871794871795},\n",
       " 'offspeed': {'perc_faced': 12.551724137931034,\n",
       "  'chase_perc': 27.27272727272727,\n",
       "  'bip_swung_perc': 35.13513513513514,\n",
       "  'taken_strike_perc': 24.0,\n",
       "  'est_woba': 0.5106153846153847,\n",
       "  'babip': 0.10526315789473684,\n",
       "  'iso_value': 0.5263157894736842},\n",
       " 'breaking': {'perc_faced': 24.551724137931036,\n",
       "  'chase_perc': 23.423423423423422,\n",
       "  'bip_swung_perc': 30.64516129032258,\n",
       "  'taken_strike_perc': 46.26865671641791,\n",
       "  'est_woba': 0.37794736842105264,\n",
       "  'babip': 0.20588235294117646,\n",
       "  'iso_value': 0.08823529411764706}}"
      ]
     },
     "execution_count": 19,
     "metadata": {},
     "output_type": "execute_result"
    }
   ],
   "source": [
    "batter = list(batters_dict.keys())[0]\n",
    "\n",
    "batters_dict[batter]"
   ]
  },
  {
   "cell_type": "code",
   "execution_count": 13,
   "metadata": {},
   "outputs": [
    {
     "data": {
      "text/plain": [
       "957"
      ]
     },
     "execution_count": 13,
     "metadata": {},
     "output_type": "execute_result"
    }
   ],
   "source": [
    "len(batters_dict)"
   ]
  },
  {
   "cell_type": "code",
   "execution_count": 21,
   "metadata": {},
   "outputs": [
    {
     "data": {
      "text/html": [
       "<div>\n",
       "<style scoped>\n",
       "    .dataframe tbody tr th:only-of-type {\n",
       "        vertical-align: middle;\n",
       "    }\n",
       "\n",
       "    .dataframe tbody tr th {\n",
       "        vertical-align: top;\n",
       "    }\n",
       "\n",
       "    .dataframe thead th {\n",
       "        text-align: right;\n",
       "    }\n",
       "</style>\n",
       "<table border=\"1\" class=\"dataframe\">\n",
       "  <thead>\n",
       "    <tr style=\"text-align: right;\">\n",
       "      <th></th>\n",
       "      <th>batter</th>\n",
       "      <th>pitchout</th>\n",
       "      <th>fastball</th>\n",
       "      <th>offspeed</th>\n",
       "      <th>breaking</th>\n",
       "    </tr>\n",
       "  </thead>\n",
       "  <tbody>\n",
       "    <tr>\n",
       "      <th>0</th>\n",
       "      <td>112526.0</td>\n",
       "      <td>{'perc_faced': 0}</td>\n",
       "      <td>{'perc_faced': 64.0625, 'chase_perc': 47.36842...</td>\n",
       "      <td>{'perc_faced': 1.5625, 'chase_perc': 100.0, 'b...</td>\n",
       "      <td>{'perc_faced': 34.375, 'chase_perc': 73.333333...</td>\n",
       "    </tr>\n",
       "    <tr>\n",
       "      <th>1</th>\n",
       "      <td>134181.0</td>\n",
       "      <td>{'perc_faced': 0}</td>\n",
       "      <td>{'perc_faced': 61.026615969581755, 'chase_perc...</td>\n",
       "      <td>{'perc_faced': 8.17490494296578, 'chase_perc':...</td>\n",
       "      <td>{'perc_faced': 30.798479087452474, 'chase_perc...</td>\n",
       "    </tr>\n",
       "    <tr>\n",
       "      <th>2</th>\n",
       "      <td>136860.0</td>\n",
       "      <td>{'perc_faced': 0}</td>\n",
       "      <td>{'perc_faced': 62.18879668049793, 'chase_perc'...</td>\n",
       "      <td>{'perc_faced': 11.20331950207469, 'chase_perc'...</td>\n",
       "      <td>{'perc_faced': 26.607883817427386, 'chase_perc...</td>\n",
       "    </tr>\n",
       "    <tr>\n",
       "      <th>3</th>\n",
       "      <td>150029.0</td>\n",
       "      <td>{'perc_faced': 0.2304147465437788}</td>\n",
       "      <td>{'perc_faced': 65.3609831029186, 'chase_perc':...</td>\n",
       "      <td>{'perc_faced': 10.061443932411676, 'chase_perc...</td>\n",
       "      <td>{'perc_faced': 24.347158218125962, 'chase_perc...</td>\n",
       "    </tr>\n",
       "    <tr>\n",
       "      <th>4</th>\n",
       "      <td>276520.0</td>\n",
       "      <td>{'perc_faced': 0}</td>\n",
       "      <td>{'perc_faced': 83.33333333333334, 'chase_perc'...</td>\n",
       "      <td>{'perc_faced': nan, 'chase_perc': nan, 'bip_sw...</td>\n",
       "      <td>{'perc_faced': 16.666666666666664, 'chase_perc...</td>\n",
       "    </tr>\n",
       "  </tbody>\n",
       "</table>\n",
       "</div>"
      ],
      "text/plain": [
       "     batter                            pitchout  \\\n",
       "0  112526.0                   {'perc_faced': 0}   \n",
       "1  134181.0                   {'perc_faced': 0}   \n",
       "2  136860.0                   {'perc_faced': 0}   \n",
       "3  150029.0  {'perc_faced': 0.2304147465437788}   \n",
       "4  276520.0                   {'perc_faced': 0}   \n",
       "\n",
       "                                            fastball  \\\n",
       "0  {'perc_faced': 64.0625, 'chase_perc': 47.36842...   \n",
       "1  {'perc_faced': 61.026615969581755, 'chase_perc...   \n",
       "2  {'perc_faced': 62.18879668049793, 'chase_perc'...   \n",
       "3  {'perc_faced': 65.3609831029186, 'chase_perc':...   \n",
       "4  {'perc_faced': 83.33333333333334, 'chase_perc'...   \n",
       "\n",
       "                                            offspeed  \\\n",
       "0  {'perc_faced': 1.5625, 'chase_perc': 100.0, 'b...   \n",
       "1  {'perc_faced': 8.17490494296578, 'chase_perc':...   \n",
       "2  {'perc_faced': 11.20331950207469, 'chase_perc'...   \n",
       "3  {'perc_faced': 10.061443932411676, 'chase_perc...   \n",
       "4  {'perc_faced': nan, 'chase_perc': nan, 'bip_sw...   \n",
       "\n",
       "                                            breaking  \n",
       "0  {'perc_faced': 34.375, 'chase_perc': 73.333333...  \n",
       "1  {'perc_faced': 30.798479087452474, 'chase_perc...  \n",
       "2  {'perc_faced': 26.607883817427386, 'chase_perc...  \n",
       "3  {'perc_faced': 24.347158218125962, 'chase_perc...  \n",
       "4  {'perc_faced': 16.666666666666664, 'chase_perc...  "
      ]
     },
     "execution_count": 21,
     "metadata": {},
     "output_type": "execute_result"
    }
   ],
   "source": [
    "batters_df = pd.DataFrame.from_dict(batters_dict, orient='index')\n",
    "batters_df = batters_df.reset_index().rename(columns={'index':'batter'}).head()\n"
   ]
  },
  {
   "cell_type": "code",
   "execution_count": 16,
   "metadata": {},
   "outputs": [
    {
     "data": {
      "text/plain": [
       "pitchout    0\n",
       "fastball    0\n",
       "offspeed    0\n",
       "breaking    0\n",
       "dtype: int64"
      ]
     },
     "execution_count": 16,
     "metadata": {},
     "output_type": "execute_result"
    }
   ],
   "source": [
    "batters_df.isna().sum()"
   ]
  },
  {
   "cell_type": "markdown",
   "metadata": {},
   "source": [
    "## Next steps:\n",
    "\n",
    "-expand each pitch cat dictionary key to a new column \n",
    "\n",
    "    -example: fast_ball_perc_faced, fastball_chase_perc ...\n",
    "\n",
    "-merge batters_df, one to many, with the main df (df_17 in this case)\n",
    "    - join on df['batter'] == batters_df['batter']"
   ]
  },
  {
   "cell_type": "code",
   "execution_count": null,
   "metadata": {},
   "outputs": [],
   "source": []
  }
 ],
 "metadata": {
  "kernelspec": {
   "display_name": "Python 3",
   "language": "python",
   "name": "python3"
  },
  "language_info": {
   "codemirror_mode": {
    "name": "ipython",
    "version": 3
   },
   "file_extension": ".py",
   "mimetype": "text/x-python",
   "name": "python",
   "nbconvert_exporter": "python",
   "pygments_lexer": "ipython3",
   "version": "3.6.8"
  }
 },
 "nbformat": 4,
 "nbformat_minor": 2
}
